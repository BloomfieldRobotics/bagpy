{
 "cells": [
  {
   "cell_type": "code",
   "execution_count": 1,
   "metadata": {},
   "outputs": [
    {
     "name": "stderr",
     "output_type": "stream",
     "text": [
      "Failed to load Python extension for LZ4 support. LZ4 compression will not be available.\n"
     ]
    }
   ],
   "source": [
    "import bagpy\n",
    "from bagpy import bagreader"
   ]
  },
  {
   "cell_type": "code",
   "execution_count": 2,
   "metadata": {},
   "outputs": [
    {
     "name": "stdout",
     "output_type": "stream",
     "text": [
      "[INFO]  Data folder /home/ivory/CyverseData/JmscslgroupData/ARED/2016-07-28/data_by_test/Bag Files/test3_09-23-59 already exists. Not creating.\n"
     ]
    }
   ],
   "source": [
    "b = bagreader('/home/ivory/CyverseData/JmscslgroupData/ARED/2016-07-28/data_by_test/Bag Files/test3_09-23-59.bag')"
   ]
  },
  {
   "cell_type": "code",
   "execution_count": 3,
   "metadata": {},
   "outputs": [
    {
     "data": {
      "text/html": [
       "<div>\n",
       "<style scoped>\n",
       "    .dataframe tbody tr th:only-of-type {\n",
       "        vertical-align: middle;\n",
       "    }\n",
       "\n",
       "    .dataframe tbody tr th {\n",
       "        vertical-align: top;\n",
       "    }\n",
       "\n",
       "    .dataframe thead th {\n",
       "        text-align: right;\n",
       "    }\n",
       "</style>\n",
       "<table border=\"1\" class=\"dataframe\">\n",
       "  <thead>\n",
       "    <tr style=\"text-align: right;\">\n",
       "      <th></th>\n",
       "      <th>Topics</th>\n",
       "      <th>Types</th>\n",
       "      <th>Message Count</th>\n",
       "      <th>Frequency</th>\n",
       "    </tr>\n",
       "  </thead>\n",
       "  <tbody>\n",
       "    <tr>\n",
       "      <th>0</th>\n",
       "      <td>/catvehicle/accelerator</td>\n",
       "      <td>geometry_msgs/Wrench</td>\n",
       "      <td>4410</td>\n",
       "      <td>19.853096</td>\n",
       "    </tr>\n",
       "    <tr>\n",
       "      <th>1</th>\n",
       "      <td>/catvehicle/brake</td>\n",
       "      <td>geometry_msgs/Wrench</td>\n",
       "      <td>4410</td>\n",
       "      <td>19.871249</td>\n",
       "    </tr>\n",
       "    <tr>\n",
       "      <th>2</th>\n",
       "      <td>/catvehicle/cmd_vel_wrench</td>\n",
       "      <td>geometry_msgs/Twist</td>\n",
       "      <td>4417</td>\n",
       "      <td>20.013857</td>\n",
       "    </tr>\n",
       "    <tr>\n",
       "      <th>3</th>\n",
       "      <td>/catvehicle/cmd_vel_wrench_in</td>\n",
       "      <td>geometry_msgs/Twist</td>\n",
       "      <td>4417</td>\n",
       "      <td>20.009083</td>\n",
       "    </tr>\n",
       "    <tr>\n",
       "      <th>4</th>\n",
       "      <td>/catvehicle/cmd_wrench</td>\n",
       "      <td>geometry_msgs/Wrench</td>\n",
       "      <td>8544</td>\n",
       "      <td>243.218556</td>\n",
       "    </tr>\n",
       "    <tr>\n",
       "      <th>5</th>\n",
       "      <td>/catvehicle/distanceEstimatorSteeringBased/Xdist</td>\n",
       "      <td>std_msgs/Float32</td>\n",
       "      <td>16542</td>\n",
       "      <td>76.594302</td>\n",
       "    </tr>\n",
       "    <tr>\n",
       "      <th>6</th>\n",
       "      <td>/catvehicle/distanceEstimatorSteeringBased/Ydist</td>\n",
       "      <td>std_msgs/Float32</td>\n",
       "      <td>16540</td>\n",
       "      <td>76.581716</td>\n",
       "    </tr>\n",
       "    <tr>\n",
       "      <th>7</th>\n",
       "      <td>/catvehicle/distanceEstimatorSteeringBased/angle</td>\n",
       "      <td>std_msgs/Float32</td>\n",
       "      <td>16540</td>\n",
       "      <td>76.569134</td>\n",
       "    </tr>\n",
       "    <tr>\n",
       "      <th>8</th>\n",
       "      <td>/catvehicle/distanceEstimatorSteeringBased/dist</td>\n",
       "      <td>std_msgs/Float32</td>\n",
       "      <td>16532</td>\n",
       "      <td>76.588708</td>\n",
       "    </tr>\n",
       "    <tr>\n",
       "      <th>9</th>\n",
       "      <td>/catvehicle/front_laser_points</td>\n",
       "      <td>sensor_msgs/LaserScan</td>\n",
       "      <td>16533</td>\n",
       "      <td>75.347681</td>\n",
       "    </tr>\n",
       "    <tr>\n",
       "      <th>10</th>\n",
       "      <td>/catvehicle/kalmanFilter/dist</td>\n",
       "      <td>std_msgs/Float32</td>\n",
       "      <td>16088</td>\n",
       "      <td>74.997389</td>\n",
       "    </tr>\n",
       "    <tr>\n",
       "      <th>11</th>\n",
       "      <td>/catvehicle/kalmanFilter/vel</td>\n",
       "      <td>std_msgs/Float32</td>\n",
       "      <td>16081</td>\n",
       "      <td>74.994707</td>\n",
       "    </tr>\n",
       "    <tr>\n",
       "      <th>12</th>\n",
       "      <td>/catvehicle/relativeVel</td>\n",
       "      <td>std_msgs/Float32</td>\n",
       "      <td>16088</td>\n",
       "      <td>76.613890</td>\n",
       "    </tr>\n",
       "    <tr>\n",
       "      <th>13</th>\n",
       "      <td>/catvehicle/steering</td>\n",
       "      <td>geometry_msgs/Wrench</td>\n",
       "      <td>4410</td>\n",
       "      <td>19.852532</td>\n",
       "    </tr>\n",
       "    <tr>\n",
       "      <th>14</th>\n",
       "      <td>/catvehicle/v_average</td>\n",
       "      <td>geometry_msgs/Twist</td>\n",
       "      <td>12172</td>\n",
       "      <td>75.009460</td>\n",
       "    </tr>\n",
       "    <tr>\n",
       "      <th>15</th>\n",
       "      <td>/catvehicle/vel</td>\n",
       "      <td>geometry_msgs/Twist</td>\n",
       "      <td>4415</td>\n",
       "      <td>19.908458</td>\n",
       "    </tr>\n",
       "    <tr>\n",
       "      <th>16</th>\n",
       "      <td>/catvehicle/velocity</td>\n",
       "      <td>rosjaus/ReportVelocityState</td>\n",
       "      <td>4415</td>\n",
       "      <td>19.909639</td>\n",
       "    </tr>\n",
       "    <tr>\n",
       "      <th>17</th>\n",
       "      <td>/catvehicle/wrenchEffort</td>\n",
       "      <td>rosjaus/ReportWrenchEffort</td>\n",
       "      <td>4410</td>\n",
       "      <td>19.772981</td>\n",
       "    </tr>\n",
       "    <tr>\n",
       "      <th>18</th>\n",
       "      <td>/diagnostics</td>\n",
       "      <td>diagnostic_msgs/DiagnosticArray</td>\n",
       "      <td>219</td>\n",
       "      <td>0.998563</td>\n",
       "    </tr>\n",
       "    <tr>\n",
       "      <th>19</th>\n",
       "      <td>/gps_fix</td>\n",
       "      <td>sensor_msgs/NavSatFix</td>\n",
       "      <td>2208</td>\n",
       "      <td>10.026952</td>\n",
       "    </tr>\n",
       "    <tr>\n",
       "      <th>20</th>\n",
       "      <td>/rosout</td>\n",
       "      <td>rosgraph_msgs/Log</td>\n",
       "      <td>171</td>\n",
       "      <td>71.809822</td>\n",
       "    </tr>\n",
       "    <tr>\n",
       "      <th>21</th>\n",
       "      <td>/rosout_agg</td>\n",
       "      <td>rosgraph_msgs/Log</td>\n",
       "      <td>172</td>\n",
       "      <td>72.531931</td>\n",
       "    </tr>\n",
       "    <tr>\n",
       "      <th>22</th>\n",
       "      <td>/utm_odom</td>\n",
       "      <td>nav_msgs/Odometry</td>\n",
       "      <td>2208</td>\n",
       "      <td>10.026185</td>\n",
       "    </tr>\n",
       "  </tbody>\n",
       "</table>\n",
       "</div>"
      ],
      "text/plain": [
       "                                              Topics  \\\n",
       "0                            /catvehicle/accelerator   \n",
       "1                                  /catvehicle/brake   \n",
       "2                         /catvehicle/cmd_vel_wrench   \n",
       "3                      /catvehicle/cmd_vel_wrench_in   \n",
       "4                             /catvehicle/cmd_wrench   \n",
       "5   /catvehicle/distanceEstimatorSteeringBased/Xdist   \n",
       "6   /catvehicle/distanceEstimatorSteeringBased/Ydist   \n",
       "7   /catvehicle/distanceEstimatorSteeringBased/angle   \n",
       "8    /catvehicle/distanceEstimatorSteeringBased/dist   \n",
       "9                     /catvehicle/front_laser_points   \n",
       "10                     /catvehicle/kalmanFilter/dist   \n",
       "11                      /catvehicle/kalmanFilter/vel   \n",
       "12                           /catvehicle/relativeVel   \n",
       "13                              /catvehicle/steering   \n",
       "14                             /catvehicle/v_average   \n",
       "15                                   /catvehicle/vel   \n",
       "16                              /catvehicle/velocity   \n",
       "17                          /catvehicle/wrenchEffort   \n",
       "18                                      /diagnostics   \n",
       "19                                          /gps_fix   \n",
       "20                                           /rosout   \n",
       "21                                       /rosout_agg   \n",
       "22                                         /utm_odom   \n",
       "\n",
       "                              Types  Message Count   Frequency  \n",
       "0              geometry_msgs/Wrench           4410   19.853096  \n",
       "1              geometry_msgs/Wrench           4410   19.871249  \n",
       "2               geometry_msgs/Twist           4417   20.013857  \n",
       "3               geometry_msgs/Twist           4417   20.009083  \n",
       "4              geometry_msgs/Wrench           8544  243.218556  \n",
       "5                  std_msgs/Float32          16542   76.594302  \n",
       "6                  std_msgs/Float32          16540   76.581716  \n",
       "7                  std_msgs/Float32          16540   76.569134  \n",
       "8                  std_msgs/Float32          16532   76.588708  \n",
       "9             sensor_msgs/LaserScan          16533   75.347681  \n",
       "10                 std_msgs/Float32          16088   74.997389  \n",
       "11                 std_msgs/Float32          16081   74.994707  \n",
       "12                 std_msgs/Float32          16088   76.613890  \n",
       "13             geometry_msgs/Wrench           4410   19.852532  \n",
       "14              geometry_msgs/Twist          12172   75.009460  \n",
       "15              geometry_msgs/Twist           4415   19.908458  \n",
       "16      rosjaus/ReportVelocityState           4415   19.909639  \n",
       "17       rosjaus/ReportWrenchEffort           4410   19.772981  \n",
       "18  diagnostic_msgs/DiagnosticArray            219    0.998563  \n",
       "19            sensor_msgs/NavSatFix           2208   10.026952  \n",
       "20                rosgraph_msgs/Log            171   71.809822  \n",
       "21                rosgraph_msgs/Log            172   72.531931  \n",
       "22                nav_msgs/Odometry           2208   10.026185  "
      ]
     },
     "execution_count": 3,
     "metadata": {},
     "output_type": "execute_result"
    }
   ],
   "source": [
    "b.topic_table"
   ]
  },
  {
   "cell_type": "code",
   "execution_count": 4,
   "metadata": {},
   "outputs": [],
   "source": [
    "velmsgs   = b.vel_data()"
   ]
  },
  {
   "cell_type": "code",
   "execution_count": 5,
   "metadata": {},
   "outputs": [
    {
     "data": {
      "text/plain": [
       "['/home/ivory/CyverseData/JmscslgroupData/ARED/2016-07-28/data_by_test/Bag Files/test3_09-23-59/-catvehicle-cmd_vel_wrench.csv',\n",
       " '/home/ivory/CyverseData/JmscslgroupData/ARED/2016-07-28/data_by_test/Bag Files/test3_09-23-59/-catvehicle-cmd_vel_wrench_in.csv',\n",
       " '/home/ivory/CyverseData/JmscslgroupData/ARED/2016-07-28/data_by_test/Bag Files/test3_09-23-59/-catvehicle-v_average.csv',\n",
       " '/home/ivory/CyverseData/JmscslgroupData/ARED/2016-07-28/data_by_test/Bag Files/test3_09-23-59/-catvehicle-vel.csv']"
      ]
     },
     "execution_count": 5,
     "metadata": {},
     "output_type": "execute_result"
    }
   ],
   "source": [
    "velmsgs"
   ]
  },
  {
   "cell_type": "code",
   "execution_count": 6,
   "metadata": {},
   "outputs": [],
   "source": [
    "import pandas as pd\n",
    "veldf = pd.read_csv(velmsgs[0])"
   ]
  },
  {
   "cell_type": "code",
   "execution_count": 7,
   "metadata": {},
   "outputs": [
    {
     "data": {
      "text/html": [
       "<div>\n",
       "<style scoped>\n",
       "    .dataframe tbody tr th:only-of-type {\n",
       "        vertical-align: middle;\n",
       "    }\n",
       "\n",
       "    .dataframe tbody tr th {\n",
       "        vertical-align: top;\n",
       "    }\n",
       "\n",
       "    .dataframe thead th {\n",
       "        text-align: right;\n",
       "    }\n",
       "</style>\n",
       "<table border=\"1\" class=\"dataframe\">\n",
       "  <thead>\n",
       "    <tr style=\"text-align: right;\">\n",
       "      <th></th>\n",
       "      <th>Time</th>\n",
       "      <th>linear.x</th>\n",
       "      <th>linear.y</th>\n",
       "      <th>linear.z</th>\n",
       "      <th>angular.x</th>\n",
       "      <th>angular.y</th>\n",
       "      <th>angular.z</th>\n",
       "    </tr>\n",
       "  </thead>\n",
       "  <tbody>\n",
       "    <tr>\n",
       "      <th>0</th>\n",
       "      <td>1.469723e+09</td>\n",
       "      <td>2.0000</td>\n",
       "      <td>0.0</td>\n",
       "      <td>0.0</td>\n",
       "      <td>0.0</td>\n",
       "      <td>0.0</td>\n",
       "      <td>0.0</td>\n",
       "    </tr>\n",
       "    <tr>\n",
       "      <th>1</th>\n",
       "      <td>1.469723e+09</td>\n",
       "      <td>2.0000</td>\n",
       "      <td>0.0</td>\n",
       "      <td>0.0</td>\n",
       "      <td>0.0</td>\n",
       "      <td>0.0</td>\n",
       "      <td>0.0</td>\n",
       "    </tr>\n",
       "    <tr>\n",
       "      <th>2</th>\n",
       "      <td>1.469723e+09</td>\n",
       "      <td>2.0000</td>\n",
       "      <td>0.0</td>\n",
       "      <td>0.0</td>\n",
       "      <td>0.0</td>\n",
       "      <td>0.0</td>\n",
       "      <td>0.0</td>\n",
       "    </tr>\n",
       "    <tr>\n",
       "      <th>3</th>\n",
       "      <td>1.469723e+09</td>\n",
       "      <td>2.0000</td>\n",
       "      <td>0.0</td>\n",
       "      <td>0.0</td>\n",
       "      <td>0.0</td>\n",
       "      <td>0.0</td>\n",
       "      <td>0.0</td>\n",
       "    </tr>\n",
       "    <tr>\n",
       "      <th>4</th>\n",
       "      <td>1.469723e+09</td>\n",
       "      <td>2.0000</td>\n",
       "      <td>0.0</td>\n",
       "      <td>0.0</td>\n",
       "      <td>0.0</td>\n",
       "      <td>0.0</td>\n",
       "      <td>0.0</td>\n",
       "    </tr>\n",
       "    <tr>\n",
       "      <th>...</th>\n",
       "      <td>...</td>\n",
       "      <td>...</td>\n",
       "      <td>...</td>\n",
       "      <td>...</td>\n",
       "      <td>...</td>\n",
       "      <td>...</td>\n",
       "      <td>...</td>\n",
       "    </tr>\n",
       "    <tr>\n",
       "      <th>4412</th>\n",
       "      <td>1.469723e+09</td>\n",
       "      <td>2.0154</td>\n",
       "      <td>0.0</td>\n",
       "      <td>0.0</td>\n",
       "      <td>0.0</td>\n",
       "      <td>0.0</td>\n",
       "      <td>0.0</td>\n",
       "    </tr>\n",
       "    <tr>\n",
       "      <th>4413</th>\n",
       "      <td>1.469723e+09</td>\n",
       "      <td>2.0000</td>\n",
       "      <td>0.0</td>\n",
       "      <td>0.0</td>\n",
       "      <td>0.0</td>\n",
       "      <td>0.0</td>\n",
       "      <td>0.0</td>\n",
       "    </tr>\n",
       "    <tr>\n",
       "      <th>4414</th>\n",
       "      <td>1.469723e+09</td>\n",
       "      <td>2.0220</td>\n",
       "      <td>0.0</td>\n",
       "      <td>0.0</td>\n",
       "      <td>0.0</td>\n",
       "      <td>0.0</td>\n",
       "      <td>0.0</td>\n",
       "    </tr>\n",
       "    <tr>\n",
       "      <th>4415</th>\n",
       "      <td>1.469723e+09</td>\n",
       "      <td>2.0264</td>\n",
       "      <td>0.0</td>\n",
       "      <td>0.0</td>\n",
       "      <td>0.0</td>\n",
       "      <td>0.0</td>\n",
       "      <td>0.0</td>\n",
       "    </tr>\n",
       "    <tr>\n",
       "      <th>4416</th>\n",
       "      <td>1.469723e+09</td>\n",
       "      <td>2.0044</td>\n",
       "      <td>0.0</td>\n",
       "      <td>0.0</td>\n",
       "      <td>0.0</td>\n",
       "      <td>0.0</td>\n",
       "      <td>0.0</td>\n",
       "    </tr>\n",
       "  </tbody>\n",
       "</table>\n",
       "<p>4417 rows × 7 columns</p>\n",
       "</div>"
      ],
      "text/plain": [
       "              Time  linear.x  linear.y  linear.z  angular.x  angular.y  \\\n",
       "0     1.469723e+09    2.0000       0.0       0.0        0.0        0.0   \n",
       "1     1.469723e+09    2.0000       0.0       0.0        0.0        0.0   \n",
       "2     1.469723e+09    2.0000       0.0       0.0        0.0        0.0   \n",
       "3     1.469723e+09    2.0000       0.0       0.0        0.0        0.0   \n",
       "4     1.469723e+09    2.0000       0.0       0.0        0.0        0.0   \n",
       "...            ...       ...       ...       ...        ...        ...   \n",
       "4412  1.469723e+09    2.0154       0.0       0.0        0.0        0.0   \n",
       "4413  1.469723e+09    2.0000       0.0       0.0        0.0        0.0   \n",
       "4414  1.469723e+09    2.0220       0.0       0.0        0.0        0.0   \n",
       "4415  1.469723e+09    2.0264       0.0       0.0        0.0        0.0   \n",
       "4416  1.469723e+09    2.0044       0.0       0.0        0.0        0.0   \n",
       "\n",
       "      angular.z  \n",
       "0           0.0  \n",
       "1           0.0  \n",
       "2           0.0  \n",
       "3           0.0  \n",
       "4           0.0  \n",
       "...         ...  \n",
       "4412        0.0  \n",
       "4413        0.0  \n",
       "4414        0.0  \n",
       "4415        0.0  \n",
       "4416        0.0  \n",
       "\n",
       "[4417 rows x 7 columns]"
      ]
     },
     "execution_count": 7,
     "metadata": {},
     "output_type": "execute_result"
    }
   ],
   "source": [
    "veldf"
   ]
  },
  {
   "cell_type": "code",
   "execution_count": 11,
   "metadata": {},
   "outputs": [
    {
     "data": {
      "text/plain": [
       "[<matplotlib.lines.Line2D at 0x7f8668c17a50>]"
      ]
     },
     "execution_count": 11,
     "metadata": {},
     "output_type": "execute_result"
    },
    {
     "data": {
      "image/png": "[encoded data removed]",
      "text/plain": [
       "<Figure size 1080x432 with 1 Axes>"
      ]
     },
     "metadata": {
      "needs_background": "light"
     },
     "output_type": "display_data"
    }
   ],
   "source": [
    "import matplotlib.pyplot as plt\n",
    "plt.rcParams['figure.figsize'] = [15, 6]\n",
    "plt.plot(veldf['Time'], veldf['linear.x'])"
   ]
  },
  {
   "cell_type": "code",
   "execution_count": 12,
   "metadata": {},
   "outputs": [],
   "source": [
    "newmsg = b.message_by_topic(topic='/catvehicle/front_laser_points')"
   ]
  },
  {
   "cell_type": "code",
   "execution_count": 18,
   "metadata": {},
   "outputs": [
    {
     "data": {
      "text/plain": [
       "16533"
      ]
     },
     "execution_count": 18,
     "metadata": {},
     "output_type": "execute_result"
    }
   ],
   "source": [
    "len(newmsg)"
   ]
  },
  {
   "cell_type": "code",
   "execution_count": 20,
   "metadata": {},
   "outputs": [
    {
     "data": {
      "image/png": "[encoded data removed]",
      "text/plain": [
       "<Figure size 1080x432 with 1 Axes>"
      ]
     },
     "metadata": {},
     "output_type": "display_data"
    },
    {
     "ename": "KeyboardInterrupt",
     "evalue": "",
     "output_type": "error",
     "traceback": [
      "\u001b[0;31m---------------------------------------------------------------------------\u001b[0m",
      "\u001b[0;31mKeyboardInterrupt\u001b[0m                         Traceback (most recent call last)",
      "\u001b[0;32m<ipython-input-20-1bfa0cb312c6>\u001b[0m in \u001b[0;36m<module>\u001b[0;34m\u001b[0m\n\u001b[0;32m----> 1\u001b[0;31m \u001b[0mbagpy\u001b[0m\u001b[0;34m.\u001b[0m\u001b[0manimate_timeseries\u001b[0m\u001b[0;34m(\u001b[0m\u001b[0mveldf\u001b[0m\u001b[0;34m[\u001b[0m\u001b[0;34m'Time'\u001b[0m\u001b[0;34m]\u001b[0m\u001b[0;34m,\u001b[0m \u001b[0mveldf\u001b[0m\u001b[0;34m[\u001b[0m\u001b[0;34m'linear.x'\u001b[0m\u001b[0;34m]\u001b[0m\u001b[0;34m,\u001b[0m \u001b[0mtitle\u001b[0m\u001b[0;34m=\u001b[0m\u001b[0;34m'Velocity Timeseries'\u001b[0m\u001b[0;34m)\u001b[0m\u001b[0;34m\u001b[0m\u001b[0;34m\u001b[0m\u001b[0m\n\u001b[0m",
      "\u001b[0;32m~/anaconda3/envs/dbn/lib/python3.7/site-packages/bagpy-0.2.6-py3.7.egg/bagpy/bagreader.py\u001b[0m in \u001b[0;36manimate_timeseries\u001b[0;34m(time, message, **kwargs)\u001b[0m\n\u001b[1;32m    919\u001b[0m             \u001b[0mIPython\u001b[0m\u001b[0;34m.\u001b[0m\u001b[0mdisplay\u001b[0m\u001b[0;34m.\u001b[0m\u001b[0mclear_output\u001b[0m\u001b[0;34m(\u001b[0m\u001b[0mwait\u001b[0m\u001b[0;34m=\u001b[0m\u001b[0;32mTrue\u001b[0m\u001b[0;34m)\u001b[0m\u001b[0;34m\u001b[0m\u001b[0;34m\u001b[0m\u001b[0m\n\u001b[1;32m    920\u001b[0m             \u001b[0mdisplay\u001b[0m\u001b[0;34m(\u001b[0m\u001b[0mfig\u001b[0m\u001b[0;34m)\u001b[0m\u001b[0;34m\u001b[0m\u001b[0;34m\u001b[0m\u001b[0m\n\u001b[0;32m--> 921\u001b[0;31m             \u001b[0mplt\u001b[0m\u001b[0;34m.\u001b[0m\u001b[0mpause\u001b[0m\u001b[0;34m(\u001b[0m\u001b[0mtime\u001b[0m\u001b[0;34m[\u001b[0m\u001b[0mindex\u001b[0m \u001b[0;34m+\u001b[0m \u001b[0;36m1\u001b[0m\u001b[0;34m]\u001b[0m \u001b[0;34m-\u001b[0m \u001b[0mtime\u001b[0m\u001b[0;34m[\u001b[0m\u001b[0mindex\u001b[0m\u001b[0;34m]\u001b[0m\u001b[0;34m)\u001b[0m\u001b[0;34m\u001b[0m\u001b[0;34m\u001b[0m\u001b[0m\n\u001b[0m\u001b[1;32m    922\u001b[0m \u001b[0;34m\u001b[0m\u001b[0m\n\u001b[1;32m    923\u001b[0m     \u001b[0;32melse\u001b[0m\u001b[0;34m:\u001b[0m\u001b[0;34m\u001b[0m\u001b[0;34m\u001b[0m\u001b[0m\n",
      "\u001b[0;32m~/anaconda3/envs/dbn/lib/python3.7/site-packages/matplotlib/pyplot.py\u001b[0m in \u001b[0;36mpause\u001b[0;34m(interval)\u001b[0m\n\u001b[1;32m    295\u001b[0m         \u001b[0mcanvas\u001b[0m\u001b[0;34m.\u001b[0m\u001b[0mstart_event_loop\u001b[0m\u001b[0;34m(\u001b[0m\u001b[0minterval\u001b[0m\u001b[0;34m)\u001b[0m\u001b[0;34m\u001b[0m\u001b[0;34m\u001b[0m\u001b[0m\n\u001b[1;32m    296\u001b[0m     \u001b[0;32melse\u001b[0m\u001b[0;34m:\u001b[0m\u001b[0;34m\u001b[0m\u001b[0;34m\u001b[0m\u001b[0m\n\u001b[0;32m--> 297\u001b[0;31m         \u001b[0mtime\u001b[0m\u001b[0;34m.\u001b[0m\u001b[0msleep\u001b[0m\u001b[0;34m(\u001b[0m\u001b[0minterval\u001b[0m\u001b[0;34m)\u001b[0m\u001b[0;34m\u001b[0m\u001b[0;34m\u001b[0m\u001b[0m\n\u001b[0m\u001b[1;32m    298\u001b[0m \u001b[0;34m\u001b[0m\u001b[0m\n\u001b[1;32m    299\u001b[0m \u001b[0;34m\u001b[0m\u001b[0m\n",
      "\u001b[0;31mKeyboardInterrupt\u001b[0m: "
     ]
    }
   ],
   "source": [
    "bagpy.animate_timeseries(veldf['Time'], veldf['linear.x'], title='Velocity Timeseries')"
   ]
  },
  {
   "cell_type": "code",
   "execution_count": null,
   "metadata": {},
   "outputs": [],
   "source": []
  }
 ],
 "metadata": {
  "kernelspec": {
   "display_name": "Python 3.7.5 64-bit ('dbn': conda)",
   "language": "python",
   "name": "python37564bitdbnconda0ff40c201a374a3db2aacabb837785f4"
  },
  "language_info": {
   "codemirror_mode": {
    "name": "ipython",
    "version": 3
   },
   "file_extension": ".py",
   "mimetype": "text/x-python",
   "name": "python",
   "nbconvert_exporter": "python",
   "pygments_lexer": "ipython3",
   "version": "3.7.5"
  }
 },
 "nbformat": 4,
 "nbformat_minor": 2
}
